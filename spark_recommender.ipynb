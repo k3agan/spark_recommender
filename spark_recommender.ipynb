{
 "cells": [
  {
   "cell_type": "markdown",
   "metadata": {},
   "source": [
    "## launch `train_spark.py` from within a serverless apache spark env\n"
   ]
  },
  {
   "cell_type": "code",
   "execution_count": 5,
   "metadata": {},
   "outputs": [],
   "source": [
    "from sagemaker.spark.processing import PySparkProcessor\n",
    "from sagemaker.processing import ProcessingOutput\n",
    "\n",
    "processor = PySparkProcessor(base_job_name = 'spark-als',\n",
    "                            role=role,\n",
    "                            instance_count = 1,\n",
    "                            instance_type='ml.r5.2xlarge',\n",
    "                            max_runtime_in_seconds = 1200)\n",
    "\n",
    "processor.run(submit_app='train_spark.py',\n",
    "             arguments = ['s3_input_data', s3_input_data,\n",
    "                         's3_output_data', s3_output_data,\n",
    "                         ],\n",
    "                         logs = True,\n",
    "                         wait = False\n",
    "             )"
   ]
  }
 ],
 "metadata": {
  "kernelspec": {
   "display_name": "Python 3",
   "language": "python",
   "name": "python3"
  },
  "language_info": {
   "codemirror_mode": {
    "name": "ipython",
    "version": 3
   },
   "file_extension": ".py",
   "mimetype": "text/x-python",
   "name": "python",
   "nbconvert_exporter": "python",
   "pygments_lexer": "ipython3",
   "version": "3.8.5"
  }
 },
 "nbformat": 4,
 "nbformat_minor": 4
}
